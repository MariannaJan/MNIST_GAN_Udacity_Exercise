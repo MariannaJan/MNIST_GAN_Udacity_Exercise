{
  "nbformat": 4,
  "nbformat_minor": 0,
  "metadata": {
    "colab": {
      "name": "MNIST_GAN_Exercise.ipynb",
      "version": "0.3.2",
      "provenance": [],
      "collapsed_sections": [],
      "toc_visible": true,
      "include_colab_link": true
    },
    "kernelspec": {
      "name": "python3",
      "display_name": "Python 3"
    },
    "accelerator": "GPU"
  },
  "cells": [
    {
      "cell_type": "markdown",
      "metadata": {
        "id": "view-in-github",
        "colab_type": "text"
      },
      "source": [
        "<a href=\"https://colab.research.google.com/github/MariannaJan/MNIST_GAN_Udacity_Exercise/blob/master/MNIST_GAN_Exercise.ipynb\" target=\"_parent\"><img src=\"https://colab.research.google.com/assets/colab-badge.svg\" alt=\"Open In Colab\"/></a>"
      ]
    },
    {
      "metadata": {
        "id": "bpeFQ_eTXtnB",
        "colab_type": "text"
      },
      "cell_type": "markdown",
      "source": [
        "# Generative Adversarial Network\n",
        "\n",
        "In this notebook, we'll be building a generative adversarial network (GAN) trained on the MNIST dataset. From this, we'll be able to generate new handwritten digits!\n",
        "\n",
        "GANs were [first reported on](https://arxiv.org/abs/1406.2661) in 2014 from Ian Goodfellow and others in Yoshua Bengio's lab. Since then, GANs have exploded in popularity. Here are a few examples to check out:\n",
        "\n",
        "* [Pix2Pix](https://affinelayer.com/pixsrv/) \n",
        "* [CycleGAN & Pix2Pix in PyTorch, Jun-Yan Zhu](https://github.com/junyanz/pytorch-CycleGAN-and-pix2pix)\n",
        "* [A list of generative models](https://github.com/wiseodd/generative-models)\n",
        "\n",
        "The idea behind GANs is that you have two networks, a generator $G$ and a discriminator $D$, competing against each other. The generator makes \"fake\" data to pass to the discriminator. The discriminator also sees real training data and predicts if the data it's received is real or fake. \n",
        "> * The generator is trained to fool the discriminator, it wants to output data that looks _as close as possible_ to real, training data. \n",
        "* The discriminator is a classifier that is trained to figure out which data is real and which is fake. \n",
        "\n",
        "What ends up happening is that the generator learns to make data that is indistinguishable from real data to the discriminator.\n",
        "\n",
        "<img src='assets/gan_pipeline.png' width=70% />\n",
        "\n",
        "The general structure of a GAN is shown in the diagram above, using MNIST images as data. The latent sample is a random vector that the generator uses to construct its fake images. This is often called a **latent vector** and that vector space is called **latent space**. As the generator trains, it figures out how to map latent vectors to recognizable images that can fool the discriminator.\n",
        "\n",
        "If you're interested in generating only new images, you can throw out the discriminator after training. In this notebook, I'll show you how to define and train these adversarial networks in PyTorch and generate new images!"
      ]
    },
    {
      "metadata": {
        "id": "4e2sHjEAXtnD",
        "colab_type": "code",
        "colab": {}
      },
      "cell_type": "code",
      "source": [
        "%matplotlib inline\n",
        "\n",
        "import numpy as np\n",
        "import torch\n",
        "import matplotlib.pyplot as plt"
      ],
      "execution_count": 0,
      "outputs": []
    },
    {
      "metadata": {
        "id": "09HCKEFxXtnH",
        "colab_type": "code",
        "colab": {}
      },
      "cell_type": "code",
      "source": [
        "from torchvision import datasets\n",
        "import torchvision.transforms as transforms\n",
        "\n",
        "# number of subprocesses to use for data loading\n",
        "num_workers = 0\n",
        "# how many samples per batch to load\n",
        "batch_size = 64\n",
        "\n",
        "# convert data to torch.FloatTensor\n",
        "transform = transforms.ToTensor()\n",
        "\n",
        "# get the training datasets\n",
        "train_data = datasets.MNIST(root='data', train=True,\n",
        "                                   download=True, transform=transform)\n",
        "\n",
        "# prepare data loader\n",
        "train_loader = torch.utils.data.DataLoader(train_data, batch_size=batch_size,\n",
        "                                           num_workers=num_workers)"
      ],
      "execution_count": 0,
      "outputs": []
    },
    {
      "metadata": {
        "id": "hZw9DRlJXtnL",
        "colab_type": "text"
      },
      "cell_type": "markdown",
      "source": [
        "### Visualize the data"
      ]
    },
    {
      "metadata": {
        "id": "Gw6uLzUqXtnM",
        "colab_type": "code",
        "outputId": "b32024d6-e32f-4356-d115-5a799d72c581",
        "colab": {
          "base_uri": "https://localhost:8080/",
          "height": 229
        }
      },
      "cell_type": "code",
      "source": [
        "# obtain one batch of training images\n",
        "dataiter = iter(train_loader)\n",
        "images, labels = dataiter.next()\n",
        "images = images.numpy()\n",
        "\n",
        "# get one image from the batch\n",
        "img = np.squeeze(images[0])\n",
        "\n",
        "fig = plt.figure(figsize = (3,3)) \n",
        "ax = fig.add_subplot(111)\n",
        "ax.imshow(img, cmap='gray')"
      ],
      "execution_count": 6,
      "outputs": [
        {
          "output_type": "execute_result",
          "data": {
            "text/plain": [
              "<matplotlib.image.AxesImage at 0x7fb9c85e4c50>"
            ]
          },
          "metadata": {
            "tags": []
          },
          "execution_count": 6
        },
        {
          "output_type": "display_data",
          "data": {
            "image/png": "[encoded data removed]",
            "text/plain": [
              "<Figure size 216x216 with 1 Axes>"
            ]
          },
          "metadata": {
            "tags": []
          }
        }
      ]
    },
    {
      "metadata": {
        "id": "WeV4bJXvXtnP",
        "colab_type": "text"
      },
      "cell_type": "markdown",
      "source": [
        "---\n",
        "# Define the Model\n",
        "\n",
        "A GAN is comprised of two adversarial networks, a discriminator and a generator."
      ]
    },
    {
      "metadata": {
        "id": "t1uOyaZoXtnR",
        "colab_type": "text"
      },
      "cell_type": "markdown",
      "source": [
        "## Discriminator\n",
        "\n",
        "The discriminator network is going to be a pretty typical linear classifier. To make this network a universal function approximator, we'll need at least one hidden layer, and these hidden layers should have one key attribute:\n",
        "> All hidden layers will have a [Leaky ReLu](https://pytorch.org/docs/stable/nn.html#torch.nn.LeakyReLU) activation function applied to their outputs.\n",
        "\n",
        "<img src='assets/gan_network.png' width=70% />\n",
        "\n",
        "#### Leaky ReLu\n",
        "\n",
        "We should use a leaky ReLU to allow gradients to flow backwards through the layer unimpeded. A leaky ReLU is like a normal ReLU, except that there is a small non-zero output for negative input values.\n",
        "\n",
        "<img src='assets/leaky_relu.png' width=40% />\n",
        "\n",
        "#### Sigmoid Output\n",
        "\n",
        "We'll also take the approach of using a more numerically stable loss function on the outputs. Recall that we want the discriminator to output a value 0-1 indicating whether an image is _real or fake_. \n",
        "> We will ultimately use [BCEWithLogitsLoss](https://pytorch.org/docs/stable/nn.html#bcewithlogitsloss), which combines a `sigmoid` activation function **and** and binary cross entropy loss in one function. \n",
        "\n",
        "So, our final output layer should not have any activation function applied to it."
      ]
    },
    {
      "metadata": {
        "id": "g8w7gU55XtnS",
        "colab_type": "code",
        "colab": {}
      },
      "cell_type": "code",
      "source": [
        "import torch.nn as nn\n",
        "import torch.nn.functional as F\n",
        "\n",
        "class Discriminator(nn.Module):\n",
        "\n",
        "    def __init__(self, input_size, hidden_dim, output_size):\n",
        "        super(Discriminator, self).__init__()\n",
        "        \n",
        "        # define all layers\n",
        "        self.fc1 = nn.Linear(input_size, hidden_dim*4)\n",
        "        self.fc2 = nn.Linear(hidden_dim*4, hidden_dim*2)\n",
        "        self.fc3 = nn.Linear(hidden_dim*2, hidden_dim)\n",
        "        self.fc4 = nn.Linear(hidden_dim, output_size)\n",
        "        \n",
        "        self.dropout = nn.Dropout(0.3)\n",
        "        \n",
        "    def forward(self, x):\n",
        "        # flatten image\n",
        "        \n",
        "        x = x.view(-1, 28*28)\n",
        "        \n",
        "        # pass x through all layers\n",
        "        # apply leaky relu activation to all hidden layers\n",
        "        \n",
        "        x = F.leaky_relu(self.fc1(x),0.2)\n",
        "        x = self.dropout(x)\n",
        "        x = F.leaky_relu(self.fc2(x),0.2)\n",
        "        x = self.dropout(x)\n",
        "        x = F.leaky_relu(self.fc3(x),0.2)\n",
        "        x = self.dropout(x)\n",
        "        \n",
        "        x = self.fc4(x)\n",
        "\n",
        "        return x\n"
      ],
      "execution_count": 0,
      "outputs": []
    },
    {
      "metadata": {
        "id": "V3CYQw0tXtnV",
        "colab_type": "text"
      },
      "cell_type": "markdown",
      "source": [
        "## Generator\n",
        "\n",
        "The generator network will be almost exactly the same as the discriminator network, except that we're applying a [tanh activation function](https://pytorch.org/docs/stable/nn.html#tanh) to our output layer.\n",
        "\n",
        "#### tanh Output\n",
        "The generator has been found to perform the best with $tanh$ for the generator output, which scales the output to be between -1 and 1, instead of 0 and 1. \n",
        "\n",
        "<img src='assets/tanh_fn.png' width=40% />\n",
        "\n",
        "Recall that we also want these outputs to be comparable to the *real* input pixel values, which are read in as normalized values between 0 and 1. \n",
        "> So, we'll also have to **scale our real input images to have pixel values between -1 and 1** when we train the discriminator. \n",
        "\n",
        "I'll do this in the training loop, later on."
      ]
    },
    {
      "metadata": {
        "id": "eh1JwjfNXtnW",
        "colab_type": "code",
        "colab": {}
      },
      "cell_type": "code",
      "source": [
        "class Generator(nn.Module):\n",
        "\n",
        "    def __init__(self, input_size, hidden_dim, output_size):\n",
        "        super(Generator, self).__init__()\n",
        "        \n",
        "        # define all layers\n",
        "        \n",
        "        self.fc1 = nn.Linear(input_size, hidden_dim)\n",
        "        self.fc2 = nn.Linear(hidden_dim, hidden_dim*2)\n",
        "        self.fc3 = nn.Linear(hidden_dim*2, hidden_dim*4)\n",
        "        self.fc4 = nn.Linear(hidden_dim*4, output_size)\n",
        "        \n",
        "        self.dropout = nn.Dropout(0.3)\n",
        "        \n",
        "\n",
        "    def forward(self, x):\n",
        "        # pass x through all layers\n",
        "        \n",
        "        x = F.leaky_relu(self.fc1(x), 0.2)\n",
        "        x = self.dropout(x)\n",
        "        x = F.leaky_relu(self.fc2(x), 0.2)\n",
        "        x = self.dropout(x)\n",
        "        x = F.leaky_relu(self.fc3(x), 0.2)\n",
        "        x = self.dropout(x)\n",
        "        \n",
        "        # final layer should have tanh applied\n",
        "        \n",
        "        x = F.tanh(self.fc4(x))\n",
        "        \n",
        "        return x"
      ],
      "execution_count": 0,
      "outputs": []
    },
    {
      "metadata": {
        "id": "oPxi7o9zXtnZ",
        "colab_type": "text"
      },
      "cell_type": "markdown",
      "source": [
        "## Model hyperparameters"
      ]
    },
    {
      "metadata": {
        "id": "NlQi8HFhXtna",
        "colab_type": "code",
        "colab": {}
      },
      "cell_type": "code",
      "source": [
        "# Discriminator hyperparams\n",
        "\n",
        "# Size of input image to discriminator (28*28)\n",
        "input_size = 784\n",
        "# Size of discriminator output (real or fake)\n",
        "d_output_size = 1\n",
        "# Size of *last* hidden layer in the discriminator\n",
        "d_hidden_size = 32\n",
        "\n",
        "# Generator hyperparams\n",
        "\n",
        "# Size of latent vector to give to generator\n",
        "z_size = 100\n",
        "# Size of discriminator output (generated image)\n",
        "g_output_size = 784\n",
        "# Size of *first* hidden layer in the generator\n",
        "g_hidden_size = 32"
      ],
      "execution_count": 0,
      "outputs": []
    },
    {
      "metadata": {
        "id": "7XtpqJatXtnd",
        "colab_type": "text"
      },
      "cell_type": "markdown",
      "source": [
        "## Build complete network\n",
        "\n",
        "Now we're instantiating the discriminator and generator from the classes defined above. Make sure you've passed in the correct input arguments."
      ]
    },
    {
      "metadata": {
        "id": "JQDFQ_XHXtne",
        "colab_type": "code",
        "colab": {
          "base_uri": "https://localhost:8080/",
          "height": 282
        },
        "outputId": "f14a72f2-ee7e-4ae8-dd02-dc0440acb1ac"
      },
      "cell_type": "code",
      "source": [
        "# instantiate discriminator and generator\n",
        "D = Discriminator(input_size, d_hidden_size, d_output_size)\n",
        "G = Generator(z_size, g_hidden_size, g_output_size)\n",
        "\n",
        "# check that they are as you expect\n",
        "print(D)\n",
        "print()\n",
        "print(G)"
      ],
      "execution_count": 18,
      "outputs": [
        {
          "output_type": "stream",
          "text": [
            "Discriminator(\n",
            "  (fc1): Linear(in_features=784, out_features=128, bias=True)\n",
            "  (fc2): Linear(in_features=128, out_features=64, bias=True)\n",
            "  (fc3): Linear(in_features=64, out_features=32, bias=True)\n",
            "  (fc4): Linear(in_features=32, out_features=1, bias=True)\n",
            "  (dropout): Dropout(p=0.3)\n",
            ")\n",
            "\n",
            "Generator(\n",
            "  (fc1): Linear(in_features=100, out_features=32, bias=True)\n",
            "  (fc2): Linear(in_features=32, out_features=64, bias=True)\n",
            "  (fc3): Linear(in_features=64, out_features=128, bias=True)\n",
            "  (fc4): Linear(in_features=128, out_features=784, bias=True)\n",
            "  (dropout): Dropout(p=0.3)\n",
            ")\n"
          ],
          "name": "stdout"
        }
      ]
    },
    {
      "metadata": {
        "id": "XOzuENd_Xtni",
        "colab_type": "text"
      },
      "cell_type": "markdown",
      "source": [
        "---\n",
        "## Discriminator and Generator Losses\n",
        "\n",
        "Now we need to calculate the losses. \n",
        "\n",
        "### Discriminator Losses\n",
        "\n",
        "> * For the discriminator, the total loss is the sum of the losses for real and fake images, `d_loss = d_real_loss + d_fake_loss`. \n",
        "* Remember that we want the discriminator to output 1 for real images and 0 for fake images, so we need to set up the losses to reflect that.\n",
        "\n",
        "<img src='assets/gan_pipeline.png' width=70% />\n",
        "\n",
        "The losses will by binary cross entropy loss with logits, which we can get with [BCEWithLogitsLoss](https://pytorch.org/docs/stable/nn.html#bcewithlogitsloss). This combines a `sigmoid` activation function **and** and binary cross entropy loss in one function.\n",
        "\n",
        "For the real images, we want `D(real_images) = 1`. That is, we want the discriminator to classify the the real images with a label = 1, indicating that these are real. To help the discriminator generalize better, the labels are **reduced a bit from 1.0 to 0.9**. For this, we'll use the parameter `smooth`; if True, then we should smooth our labels. In PyTorch, this looks like `labels = torch.ones(size) * 0.9`\n",
        "\n",
        "The discriminator loss for the fake data is similar. We want `D(fake_images) = 0`, where the fake images are the _generator output_, `fake_images = G(z)`. \n",
        "\n",
        "### Generator Loss\n",
        "\n",
        "The generator loss will look similar only with flipped labels. The generator's goal is to get `D(fake_images) = 1`. In this case, the labels are **flipped** to represent that the generator is trying to fool the discriminator into thinking that the images it generates (fakes) are real!"
      ]
    },
    {
      "metadata": {
        "id": "s9yWMOZPXtnk",
        "colab_type": "code",
        "colab": {}
      },
      "cell_type": "code",
      "source": [
        "# Calculate losses\n",
        "def real_loss(D_out, smooth=False):\n",
        "    # compare logits to real labels\n",
        "    # smooth labels if smooth=True\n",
        "    \n",
        "    batch_size = D_out.size(0)\n",
        "    \n",
        "    if smooth:\n",
        "      labels = torch.ones(batch_size)\n",
        "    else:\n",
        "      labels = torch.ones(batch_size)  \n",
        "    \n",
        "    criterion = nn.BCEWithLogitsLoss()\n",
        "    \n",
        "    loss = criterion(D_out.squeeze(), labels)\n",
        "    \n",
        "    return loss\n",
        "\n",
        "def fake_loss(D_out):\n",
        "    # compare logits to fake labels\n",
        "    \n",
        "    batch_size = D_out.size(0)\n",
        "    \n",
        "    labels = torch.zeros(batch_size)\n",
        "    \n",
        "    criterion = nn.BCEWithLogitsLoss()\n",
        "    loss = criterion(D_out.squeeze(), labels)\n",
        "    return loss"
      ],
      "execution_count": 0,
      "outputs": []
    },
    {
      "metadata": {
        "id": "jIW21F63Xtno",
        "colab_type": "text"
      },
      "cell_type": "markdown",
      "source": [
        "## Optimizers\n",
        "\n",
        "We want to update the generator and discriminator variables separately. So, we'll define two separate Adam optimizers."
      ]
    },
    {
      "metadata": {
        "scrolled": true,
        "id": "6oJbeOmmXtnp",
        "colab_type": "code",
        "colab": {}
      },
      "cell_type": "code",
      "source": [
        "import torch.optim as optim\n",
        "\n",
        "# learning rate for optimizers\n",
        "lr = 0.002\n",
        "\n",
        "# Create optimizers for the discriminator and generator\n",
        "d_optimizer = optim.Adam(D.parameters(), lr)\n",
        "g_optimizer = optim.Adam(G.parameters(), lr)"
      ],
      "execution_count": 0,
      "outputs": []
    },
    {
      "metadata": {
        "id": "MblBx6KsXtns",
        "colab_type": "text"
      },
      "cell_type": "markdown",
      "source": [
        "---\n",
        "## Training\n",
        "\n",
        "Training will involve alternating between training the discriminator and the generator. We'll use our functions `real_loss` and `fake_loss` to help us calculate the discriminator losses in all of the following cases.\n",
        "\n",
        "### Discriminator training\n",
        "1. Compute the discriminator loss on real, training images        \n",
        "2. Generate fake images\n",
        "3. Compute the discriminator loss on fake, generated images     \n",
        "4. Add up real and fake loss\n",
        "5. Perform backpropagation + an optimization step to update the discriminator's weights\n",
        "\n",
        "### Generator training\n",
        "1. Generate fake images\n",
        "2. Compute the discriminator loss on fake images, using **flipped** labels!\n",
        "3. Perform backpropagation + an optimization step to update the generator's weights\n",
        "\n",
        "#### Saving Samples\n",
        "\n",
        "As we train, we'll also print out some loss statistics and save some generated \"fake\" samples."
      ]
    },
    {
      "metadata": {
        "scrolled": true,
        "id": "gVuor09AXtnt",
        "colab_type": "code",
        "colab": {
          "base_uri": "https://localhost:8080/",
          "height": 5380
        },
        "outputId": "c8656ed8-f950-416b-ee0f-ffc861b7b253"
      },
      "cell_type": "code",
      "source": [
        "import pickle as pkl\n",
        "\n",
        "# training hyperparams\n",
        "num_epochs = 100\n",
        "\n",
        "# keep track of loss and generated, \"fake\" samples\n",
        "samples = []\n",
        "losses = []\n",
        "\n",
        "print_every = 400\n",
        "\n",
        "# Get some fixed data for sampling. These are images that are held\n",
        "# constant throughout training, and allow us to inspect the model's performance\n",
        "sample_size=16\n",
        "fixed_z = np.random.uniform(-1, 1, size=(sample_size, z_size))\n",
        "fixed_z = torch.from_numpy(fixed_z).float()\n",
        "\n",
        "# train the network\n",
        "D.train()\n",
        "G.train()\n",
        "for epoch in range(num_epochs):\n",
        "    \n",
        "    for batch_i, (real_images, _) in enumerate(train_loader):\n",
        "                \n",
        "        batch_size = real_images.size(0)\n",
        "        \n",
        "        ## Important rescaling step ## \n",
        "        real_images = real_images*2 - 1  # rescale input images from [0,1) to [-1, 1)\n",
        "        \n",
        "        # ============================================\n",
        "        #            TRAIN THE DISCRIMINATOR\n",
        "        # ============================================\n",
        "        \n",
        "        d_optimizer.zero_grad()\n",
        "                \n",
        "        # 1. Train with real images\n",
        "\n",
        "        # Compute the discriminator losses on real images\n",
        "        # use smoothed labels\n",
        "        \n",
        "        D_real = D(real_images)\n",
        "        d_real_loss = real_loss(D_real, smooth=True)\n",
        "        \n",
        "        # 2. Train with fake images\n",
        "        \n",
        "        # Generate fake images\n",
        "        z = np.random.uniform(-1, 1, size=(batch_size, z_size))\n",
        "        z = torch.from_numpy(z).float()\n",
        "        fake_images = G(z)\n",
        "        \n",
        "        # Compute the discriminator losses on fake images \n",
        "        \n",
        "        D_fake = D(fake_images)\n",
        "        d_fake_loss = fake_loss(D_fake)\n",
        "        \n",
        "        # add up real and fake losses and perform backprop\n",
        "        \n",
        "        d_loss = d_real_loss + d_fake_loss\n",
        "        d_loss.backward()\n",
        "        d_optimizer.step()\n",
        "        \n",
        "        # =========================================\n",
        "        #            TRAIN THE GENERATOR\n",
        "        # =========================================\n",
        "        \n",
        "        g_optimizer.zero_grad()\n",
        "        \n",
        "        # 1. Train with fake images and flipped labels\n",
        "        \n",
        "        # Generate fake images\n",
        "        \n",
        "        z = np.random.uniform(-1, 1, size=(batch_size, z_size))\n",
        "        z = torch.from_numpy(z).float()\n",
        "        fake_images = G(z)\n",
        "        \n",
        "        # Compute the discriminator losses on fake images \n",
        "        # using flipped labels!\n",
        "        \n",
        "        D_fake = D(fake_images)\n",
        "        \n",
        "        # perform backprop\n",
        "        g_loss = real_loss(D_fake)\n",
        "        g_loss.backward()\n",
        "        g_optimizer.step()        \n",
        "\n",
        "        # Print some loss stats\n",
        "        if batch_i % print_every == 0:\n",
        "            # print discriminator and generator loss\n",
        "            print('Epoch [{:5d}/{:5d}] | d_loss: {:6.4f} | g_loss: {:6.4f}'.format(\n",
        "                    epoch+1, num_epochs, d_loss.item(), g_loss.item()))\n",
        "\n",
        "    \n",
        "    ## AFTER EACH EPOCH##\n",
        "    # append discriminator loss and generator loss\n",
        "    losses.append((d_loss.item(), g_loss.item()))\n",
        "    \n",
        "    # generate and save sample, fake images\n",
        "    G.eval() # eval mode for generating samples\n",
        "    samples_z = G(fixed_z)\n",
        "    samples.append(samples_z)\n",
        "    G.train() # back to train mode\n",
        "\n",
        "\n",
        "# Save training generator samples\n",
        "with open('train_samples.pkl', 'wb') as f:\n",
        "    pkl.dump(samples, f)"
      ],
      "execution_count": 39,
      "outputs": [
        {
          "output_type": "stream",
          "text": [
            "/usr/local/lib/python3.6/dist-packages/torch/nn/functional.py:1320: UserWarning: nn.functional.tanh is deprecated. Use torch.tanh instead.\n",
            "  warnings.warn(\"nn.functional.tanh is deprecated. Use torch.tanh instead.\")\n"
          ],
          "name": "stderr"
        },
        {
          "output_type": "stream",
          "text": [
            "Epoch [    1/  100] | d_loss: 5.8066 | g_loss: 0.4847\n",
            "Epoch [    1/  100] | d_loss: 23.7163 | g_loss: 5.6349\n",
            "Epoch [    1/  100] | d_loss: 10.8843 | g_loss: 8.5620\n",
            "Epoch [    2/  100] | d_loss: 4.4798 | g_loss: 3.2055\n",
            "Epoch [    2/  100] | d_loss: 10.4552 | g_loss: 4.2017\n",
            "Epoch [    2/  100] | d_loss: 7.6280 | g_loss: 29.1719\n",
            "Epoch [    3/  100] | d_loss: 12.0875 | g_loss: 16.1945\n",
            "Epoch [    3/  100] | d_loss: 0.9116 | g_loss: 3.2825\n",
            "Epoch [    3/  100] | d_loss: 0.5272 | g_loss: 4.4048\n",
            "Epoch [    4/  100] | d_loss: 1.5783 | g_loss: 3.2667\n",
            "Epoch [    4/  100] | d_loss: 3.5301 | g_loss: 4.3839\n",
            "Epoch [    4/  100] | d_loss: 1.5014 | g_loss: 5.2449\n",
            "Epoch [    5/  100] | d_loss: 2.1876 | g_loss: 2.3129\n",
            "Epoch [    5/  100] | d_loss: 1.4627 | g_loss: 3.0125\n",
            "Epoch [    5/  100] | d_loss: 1.3576 | g_loss: 2.7574\n",
            "Epoch [    6/  100] | d_loss: 1.6277 | g_loss: 1.8650\n",
            "Epoch [    6/  100] | d_loss: 1.5007 | g_loss: 1.2666\n",
            "Epoch [    6/  100] | d_loss: 1.5802 | g_loss: 1.6848\n",
            "Epoch [    7/  100] | d_loss: 1.7010 | g_loss: 1.8153\n",
            "Epoch [    7/  100] | d_loss: 1.6215 | g_loss: 1.2789\n",
            "Epoch [    7/  100] | d_loss: 1.7283 | g_loss: 1.6118\n",
            "Epoch [    8/  100] | d_loss: 1.2478 | g_loss: 1.2915\n",
            "Epoch [    8/  100] | d_loss: 1.4250 | g_loss: 1.5937\n",
            "Epoch [    8/  100] | d_loss: 1.4599 | g_loss: 1.5278\n",
            "Epoch [    9/  100] | d_loss: 1.5266 | g_loss: 1.4811\n",
            "Epoch [    9/  100] | d_loss: 1.3448 | g_loss: 1.4148\n",
            "Epoch [    9/  100] | d_loss: 1.1535 | g_loss: 1.0952\n",
            "Epoch [   10/  100] | d_loss: 1.3994 | g_loss: 0.9733\n",
            "Epoch [   10/  100] | d_loss: 1.2401 | g_loss: 1.0466\n",
            "Epoch [   10/  100] | d_loss: 1.1605 | g_loss: 1.0154\n",
            "Epoch [   11/  100] | d_loss: 1.3358 | g_loss: 1.1228\n",
            "Epoch [   11/  100] | d_loss: 1.1815 | g_loss: 1.3014\n",
            "Epoch [   11/  100] | d_loss: 1.0744 | g_loss: 0.9957\n",
            "Epoch [   12/  100] | d_loss: 1.2875 | g_loss: 1.6081\n",
            "Epoch [   12/  100] | d_loss: 0.8885 | g_loss: 1.6183\n",
            "Epoch [   12/  100] | d_loss: 1.1541 | g_loss: 1.2910\n",
            "Epoch [   13/  100] | d_loss: 1.2417 | g_loss: 1.1664\n",
            "Epoch [   13/  100] | d_loss: 1.0978 | g_loss: 1.3298\n",
            "Epoch [   13/  100] | d_loss: 1.0790 | g_loss: 1.1723\n",
            "Epoch [   14/  100] | d_loss: 1.3295 | g_loss: 1.0897\n",
            "Epoch [   14/  100] | d_loss: 1.2176 | g_loss: 1.0535\n",
            "Epoch [   14/  100] | d_loss: 1.4323 | g_loss: 1.5408\n",
            "Epoch [   15/  100] | d_loss: 1.0782 | g_loss: 1.6981\n",
            "Epoch [   15/  100] | d_loss: 1.1107 | g_loss: 1.0224\n",
            "Epoch [   15/  100] | d_loss: 1.2638 | g_loss: 1.0668\n",
            "Epoch [   16/  100] | d_loss: 1.3141 | g_loss: 1.3139\n",
            "Epoch [   16/  100] | d_loss: 1.2272 | g_loss: 1.2307\n",
            "Epoch [   16/  100] | d_loss: 1.1261 | g_loss: 1.3022\n",
            "Epoch [   17/  100] | d_loss: 1.1885 | g_loss: 1.4639\n",
            "Epoch [   17/  100] | d_loss: 1.3050 | g_loss: 1.1993\n",
            "Epoch [   17/  100] | d_loss: 1.2263 | g_loss: 1.2115\n",
            "Epoch [   18/  100] | d_loss: 1.1683 | g_loss: 1.4573\n",
            "Epoch [   18/  100] | d_loss: 1.1664 | g_loss: 1.0810\n",
            "Epoch [   18/  100] | d_loss: 1.2181 | g_loss: 1.1437\n",
            "Epoch [   19/  100] | d_loss: 1.0702 | g_loss: 1.4110\n",
            "Epoch [   19/  100] | d_loss: 1.1667 | g_loss: 1.3633\n",
            "Epoch [   19/  100] | d_loss: 1.1158 | g_loss: 1.4667\n",
            "Epoch [   20/  100] | d_loss: 1.1885 | g_loss: 1.4034\n",
            "Epoch [   20/  100] | d_loss: 1.0448 | g_loss: 1.3353\n",
            "Epoch [   20/  100] | d_loss: 1.0639 | g_loss: 0.9923\n",
            "Epoch [   21/  100] | d_loss: 0.9311 | g_loss: 1.4811\n",
            "Epoch [   21/  100] | d_loss: 1.1406 | g_loss: 1.3595\n",
            "Epoch [   21/  100] | d_loss: 0.9773 | g_loss: 1.2877\n",
            "Epoch [   22/  100] | d_loss: 1.0641 | g_loss: 1.6770\n",
            "Epoch [   22/  100] | d_loss: 0.9738 | g_loss: 1.8844\n",
            "Epoch [   22/  100] | d_loss: 1.1290 | g_loss: 1.4543\n",
            "Epoch [   23/  100] | d_loss: 0.9211 | g_loss: 1.2119\n",
            "Epoch [   23/  100] | d_loss: 0.8887 | g_loss: 1.4669\n",
            "Epoch [   23/  100] | d_loss: 1.1717 | g_loss: 1.1236\n",
            "Epoch [   24/  100] | d_loss: 1.0033 | g_loss: 1.8456\n",
            "Epoch [   24/  100] | d_loss: 0.8852 | g_loss: 1.2237\n",
            "Epoch [   24/  100] | d_loss: 0.9981 | g_loss: 1.1793\n",
            "Epoch [   25/  100] | d_loss: 1.0294 | g_loss: 1.8946\n",
            "Epoch [   25/  100] | d_loss: 1.0778 | g_loss: 1.7270\n",
            "Epoch [   25/  100] | d_loss: 1.2405 | g_loss: 1.4824\n",
            "Epoch [   26/  100] | d_loss: 1.1310 | g_loss: 1.5680\n",
            "Epoch [   26/  100] | d_loss: 0.9207 | g_loss: 1.3801\n",
            "Epoch [   26/  100] | d_loss: 0.9305 | g_loss: 1.2820\n",
            "Epoch [   27/  100] | d_loss: 0.9573 | g_loss: 1.7724\n",
            "Epoch [   27/  100] | d_loss: 1.0638 | g_loss: 1.3416\n",
            "Epoch [   27/  100] | d_loss: 0.9543 | g_loss: 1.6867\n",
            "Epoch [   28/  100] | d_loss: 1.0171 | g_loss: 1.8674\n",
            "Epoch [   28/  100] | d_loss: 0.9395 | g_loss: 1.2635\n",
            "Epoch [   28/  100] | d_loss: 1.2299 | g_loss: 1.1568\n",
            "Epoch [   29/  100] | d_loss: 1.2011 | g_loss: 1.3277\n",
            "Epoch [   29/  100] | d_loss: 1.0977 | g_loss: 1.3024\n",
            "Epoch [   29/  100] | d_loss: 1.2690 | g_loss: 1.0323\n",
            "Epoch [   30/  100] | d_loss: 1.0222 | g_loss: 1.3945\n",
            "Epoch [   30/  100] | d_loss: 1.0193 | g_loss: 1.7568\n",
            "Epoch [   30/  100] | d_loss: 1.0589 | g_loss: 1.5817\n",
            "Epoch [   31/  100] | d_loss: 1.0374 | g_loss: 1.7807\n",
            "Epoch [   31/  100] | d_loss: 1.2109 | g_loss: 1.5355\n",
            "Epoch [   31/  100] | d_loss: 1.1189 | g_loss: 1.1527\n",
            "Epoch [   32/  100] | d_loss: 1.1060 | g_loss: 1.6879\n",
            "Epoch [   32/  100] | d_loss: 1.0675 | g_loss: 1.5481\n",
            "Epoch [   32/  100] | d_loss: 1.3563 | g_loss: 1.8161\n",
            "Epoch [   33/  100] | d_loss: 1.1190 | g_loss: 1.4237\n",
            "Epoch [   33/  100] | d_loss: 1.1111 | g_loss: 1.4481\n",
            "Epoch [   33/  100] | d_loss: 1.1980 | g_loss: 1.0715\n",
            "Epoch [   34/  100] | d_loss: 1.0127 | g_loss: 1.2089\n",
            "Epoch [   34/  100] | d_loss: 1.1094 | g_loss: 1.4734\n",
            "Epoch [   34/  100] | d_loss: 1.1093 | g_loss: 1.1060\n",
            "Epoch [   35/  100] | d_loss: 1.2125 | g_loss: 1.3550\n",
            "Epoch [   35/  100] | d_loss: 1.0568 | g_loss: 1.3572\n",
            "Epoch [   35/  100] | d_loss: 1.1309 | g_loss: 1.3806\n",
            "Epoch [   36/  100] | d_loss: 1.1906 | g_loss: 1.5665\n",
            "Epoch [   36/  100] | d_loss: 1.0095 | g_loss: 1.4127\n",
            "Epoch [   36/  100] | d_loss: 1.4675 | g_loss: 1.3548\n",
            "Epoch [   37/  100] | d_loss: 1.1906 | g_loss: 1.2869\n",
            "Epoch [   37/  100] | d_loss: 1.1320 | g_loss: 0.8119\n",
            "Epoch [   37/  100] | d_loss: 1.2570 | g_loss: 1.6491\n",
            "Epoch [   38/  100] | d_loss: 1.1348 | g_loss: 1.2810\n",
            "Epoch [   38/  100] | d_loss: 1.1522 | g_loss: 0.9864\n",
            "Epoch [   38/  100] | d_loss: 1.0860 | g_loss: 1.3656\n",
            "Epoch [   39/  100] | d_loss: 1.2707 | g_loss: 1.4296\n",
            "Epoch [   39/  100] | d_loss: 1.2012 | g_loss: 1.0349\n",
            "Epoch [   39/  100] | d_loss: 1.2655 | g_loss: 1.3038\n",
            "Epoch [   40/  100] | d_loss: 1.6095 | g_loss: 1.2273\n",
            "Epoch [   40/  100] | d_loss: 1.2743 | g_loss: 0.8324\n",
            "Epoch [   40/  100] | d_loss: 1.3476 | g_loss: 0.9869\n",
            "Epoch [   41/  100] | d_loss: 1.2547 | g_loss: 1.2030\n",
            "Epoch [   41/  100] | d_loss: 1.1554 | g_loss: 1.1361\n",
            "Epoch [   41/  100] | d_loss: 1.3601 | g_loss: 0.9232\n",
            "Epoch [   42/  100] | d_loss: 1.0477 | g_loss: 1.0635\n",
            "Epoch [   42/  100] | d_loss: 1.0478 | g_loss: 1.3669\n",
            "Epoch [   42/  100] | d_loss: 1.3024 | g_loss: 0.9759\n",
            "Epoch [   43/  100] | d_loss: 1.2859 | g_loss: 1.0239\n",
            "Epoch [   43/  100] | d_loss: 1.0581 | g_loss: 1.5804\n",
            "Epoch [   43/  100] | d_loss: 1.4137 | g_loss: 0.9227\n",
            "Epoch [   44/  100] | d_loss: 1.2049 | g_loss: 0.9556\n",
            "Epoch [   44/  100] | d_loss: 1.1789 | g_loss: 1.1906\n",
            "Epoch [   44/  100] | d_loss: 1.3114 | g_loss: 1.0724\n",
            "Epoch [   45/  100] | d_loss: 1.1864 | g_loss: 0.7953\n",
            "Epoch [   45/  100] | d_loss: 1.2342 | g_loss: 0.8405\n",
            "Epoch [   45/  100] | d_loss: 1.1310 | g_loss: 1.1518\n",
            "Epoch [   46/  100] | d_loss: 1.1978 | g_loss: 1.1464\n",
            "Epoch [   46/  100] | d_loss: 1.1224 | g_loss: 1.3182\n",
            "Epoch [   46/  100] | d_loss: 1.2448 | g_loss: 1.0522\n",
            "Epoch [   47/  100] | d_loss: 1.2469 | g_loss: 0.8107\n",
            "Epoch [   47/  100] | d_loss: 1.4031 | g_loss: 0.7736\n",
            "Epoch [   47/  100] | d_loss: 1.0605 | g_loss: 1.3641\n",
            "Epoch [   48/  100] | d_loss: 1.4107 | g_loss: 1.3023\n",
            "Epoch [   48/  100] | d_loss: 1.3047 | g_loss: 0.9213\n",
            "Epoch [   48/  100] | d_loss: 1.3311 | g_loss: 0.9898\n",
            "Epoch [   49/  100] | d_loss: 1.3032 | g_loss: 1.0239\n",
            "Epoch [   49/  100] | d_loss: 1.2022 | g_loss: 0.8168\n",
            "Epoch [   49/  100] | d_loss: 1.1949 | g_loss: 1.5414\n",
            "Epoch [   50/  100] | d_loss: 1.2949 | g_loss: 1.6116\n",
            "Epoch [   50/  100] | d_loss: 1.1077 | g_loss: 1.2843\n",
            "Epoch [   50/  100] | d_loss: 1.3702 | g_loss: 0.9020\n",
            "Epoch [   51/  100] | d_loss: 1.2419 | g_loss: 1.1079\n",
            "Epoch [   51/  100] | d_loss: 1.0700 | g_loss: 0.8427\n",
            "Epoch [   51/  100] | d_loss: 1.2278 | g_loss: 0.9814\n",
            "Epoch [   52/  100] | d_loss: 1.3128 | g_loss: 0.9457\n",
            "Epoch [   52/  100] | d_loss: 1.1108 | g_loss: 1.0995\n",
            "Epoch [   52/  100] | d_loss: 1.5000 | g_loss: 1.0990\n",
            "Epoch [   53/  100] | d_loss: 1.1525 | g_loss: 1.1141\n",
            "Epoch [   53/  100] | d_loss: 1.0848 | g_loss: 1.2325\n",
            "Epoch [   53/  100] | d_loss: 1.2870 | g_loss: 1.2307\n",
            "Epoch [   54/  100] | d_loss: 1.4660 | g_loss: 0.9701\n",
            "Epoch [   54/  100] | d_loss: 1.0588 | g_loss: 1.7899\n",
            "Epoch [   54/  100] | d_loss: 1.2257 | g_loss: 1.3452\n",
            "Epoch [   55/  100] | d_loss: 1.3388 | g_loss: 1.1501\n",
            "Epoch [   55/  100] | d_loss: 1.0641 | g_loss: 1.0562\n",
            "Epoch [   55/  100] | d_loss: 1.3169 | g_loss: 0.8950\n",
            "Epoch [   56/  100] | d_loss: 1.2318 | g_loss: 1.3588\n",
            "Epoch [   56/  100] | d_loss: 1.0813 | g_loss: 1.1454\n",
            "Epoch [   56/  100] | d_loss: 1.3988 | g_loss: 0.9382\n",
            "Epoch [   57/  100] | d_loss: 1.2446 | g_loss: 1.3244\n",
            "Epoch [   57/  100] | d_loss: 0.9293 | g_loss: 1.1745\n",
            "Epoch [   57/  100] | d_loss: 0.9469 | g_loss: 1.2106\n",
            "Epoch [   58/  100] | d_loss: 1.1537 | g_loss: 1.3724\n",
            "Epoch [   58/  100] | d_loss: 1.1636 | g_loss: 0.9764\n",
            "Epoch [   58/  100] | d_loss: 1.2016 | g_loss: 0.8483\n",
            "Epoch [   59/  100] | d_loss: 1.3523 | g_loss: 0.9334\n",
            "Epoch [   59/  100] | d_loss: 1.2649 | g_loss: 0.8495\n",
            "Epoch [   59/  100] | d_loss: 1.3589 | g_loss: 1.1372\n",
            "Epoch [   60/  100] | d_loss: 1.3516 | g_loss: 0.8637\n",
            "Epoch [   60/  100] | d_loss: 1.3178 | g_loss: 0.9080\n",
            "Epoch [   60/  100] | d_loss: 1.1662 | g_loss: 1.0168\n",
            "Epoch [   61/  100] | d_loss: 1.1548 | g_loss: 1.2355\n",
            "Epoch [   61/  100] | d_loss: 1.3500 | g_loss: 0.8363\n",
            "Epoch [   61/  100] | d_loss: 1.2872 | g_loss: 0.8581\n",
            "Epoch [   62/  100] | d_loss: 1.2701 | g_loss: 0.8628\n",
            "Epoch [   62/  100] | d_loss: 1.2078 | g_loss: 0.9362\n",
            "Epoch [   62/  100] | d_loss: 1.1622 | g_loss: 0.9230\n",
            "Epoch [   63/  100] | d_loss: 1.2379 | g_loss: 1.2314\n",
            "Epoch [   63/  100] | d_loss: 1.3171 | g_loss: 1.3175\n",
            "Epoch [   63/  100] | d_loss: 1.4613 | g_loss: 1.0104\n",
            "Epoch [   64/  100] | d_loss: 1.2428 | g_loss: 0.9695\n",
            "Epoch [   64/  100] | d_loss: 1.1575 | g_loss: 1.0086\n",
            "Epoch [   64/  100] | d_loss: 1.0956 | g_loss: 0.9073\n",
            "Epoch [   65/  100] | d_loss: 1.3034 | g_loss: 0.8891\n",
            "Epoch [   65/  100] | d_loss: 1.4085 | g_loss: 0.9806\n",
            "Epoch [   65/  100] | d_loss: 1.3328 | g_loss: 0.9374\n",
            "Epoch [   66/  100] | d_loss: 1.2318 | g_loss: 1.1804\n",
            "Epoch [   66/  100] | d_loss: 1.1245 | g_loss: 0.9959\n",
            "Epoch [   66/  100] | d_loss: 1.1397 | g_loss: 1.1300\n",
            "Epoch [   67/  100] | d_loss: 1.2200 | g_loss: 1.0877\n",
            "Epoch [   67/  100] | d_loss: 1.2291 | g_loss: 0.8607\n",
            "Epoch [   67/  100] | d_loss: 1.2784 | g_loss: 0.8479\n",
            "Epoch [   68/  100] | d_loss: 1.1026 | g_loss: 1.3949\n",
            "Epoch [   68/  100] | d_loss: 1.2834 | g_loss: 1.1130\n",
            "Epoch [   68/  100] | d_loss: 1.4102 | g_loss: 1.2773\n",
            "Epoch [   69/  100] | d_loss: 1.3326 | g_loss: 0.9878\n",
            "Epoch [   69/  100] | d_loss: 1.2180 | g_loss: 0.9240\n",
            "Epoch [   69/  100] | d_loss: 1.2656 | g_loss: 0.9289\n",
            "Epoch [   70/  100] | d_loss: 1.2096 | g_loss: 0.9688\n",
            "Epoch [   70/  100] | d_loss: 1.6500 | g_loss: 0.6961\n",
            "Epoch [   70/  100] | d_loss: 1.3719 | g_loss: 0.8303\n",
            "Epoch [   71/  100] | d_loss: 1.3155 | g_loss: 1.0444\n",
            "Epoch [   71/  100] | d_loss: 1.1841 | g_loss: 0.7671\n",
            "Epoch [   71/  100] | d_loss: 1.2256 | g_loss: 0.9285\n",
            "Epoch [   72/  100] | d_loss: 1.4834 | g_loss: 0.9560\n",
            "Epoch [   72/  100] | d_loss: 1.2966 | g_loss: 0.9720\n",
            "Epoch [   72/  100] | d_loss: 1.3500 | g_loss: 0.8498\n",
            "Epoch [   73/  100] | d_loss: 1.4663 | g_loss: 1.5161\n",
            "Epoch [   73/  100] | d_loss: 1.2538 | g_loss: 0.9208\n",
            "Epoch [   73/  100] | d_loss: 1.2620 | g_loss: 0.9827\n",
            "Epoch [   74/  100] | d_loss: 0.9793 | g_loss: 1.1849\n",
            "Epoch [   74/  100] | d_loss: 1.2021 | g_loss: 0.8767\n",
            "Epoch [   74/  100] | d_loss: 1.2352 | g_loss: 0.7935\n",
            "Epoch [   75/  100] | d_loss: 1.2724 | g_loss: 0.9981\n",
            "Epoch [   75/  100] | d_loss: 1.2589 | g_loss: 1.1024\n",
            "Epoch [   75/  100] | d_loss: 1.2596 | g_loss: 0.8783\n",
            "Epoch [   76/  100] | d_loss: 1.1618 | g_loss: 1.3826\n",
            "Epoch [   76/  100] | d_loss: 1.2201 | g_loss: 0.8902\n",
            "Epoch [   76/  100] | d_loss: 1.1625 | g_loss: 1.1900\n",
            "Epoch [   77/  100] | d_loss: 1.4366 | g_loss: 1.1910\n",
            "Epoch [   77/  100] | d_loss: 1.2424 | g_loss: 0.8620\n",
            "Epoch [   77/  100] | d_loss: 1.3004 | g_loss: 0.8552\n",
            "Epoch [   78/  100] | d_loss: 1.2624 | g_loss: 0.8007\n",
            "Epoch [   78/  100] | d_loss: 1.3324 | g_loss: 0.9661\n",
            "Epoch [   78/  100] | d_loss: 1.4370 | g_loss: 0.8725\n",
            "Epoch [   79/  100] | d_loss: 1.0492 | g_loss: 1.1012\n",
            "Epoch [   79/  100] | d_loss: 1.2024 | g_loss: 1.0227\n",
            "Epoch [   79/  100] | d_loss: 1.4008 | g_loss: 0.9415\n",
            "Epoch [   80/  100] | d_loss: 1.1682 | g_loss: 1.4117\n",
            "Epoch [   80/  100] | d_loss: 1.3221 | g_loss: 0.9897\n",
            "Epoch [   80/  100] | d_loss: 1.3617 | g_loss: 0.8126\n",
            "Epoch [   81/  100] | d_loss: 1.3021 | g_loss: 1.0599\n",
            "Epoch [   81/  100] | d_loss: 1.2672 | g_loss: 1.1037\n",
            "Epoch [   81/  100] | d_loss: 1.3341 | g_loss: 0.9526\n",
            "Epoch [   82/  100] | d_loss: 1.1982 | g_loss: 0.9338\n",
            "Epoch [   82/  100] | d_loss: 1.3677 | g_loss: 0.9627\n",
            "Epoch [   82/  100] | d_loss: 1.4537 | g_loss: 0.9392\n",
            "Epoch [   83/  100] | d_loss: 1.2615 | g_loss: 0.9306\n",
            "Epoch [   83/  100] | d_loss: 1.2716 | g_loss: 0.8583\n",
            "Epoch [   83/  100] | d_loss: 1.4003 | g_loss: 0.9301\n",
            "Epoch [   84/  100] | d_loss: 1.2428 | g_loss: 0.9683\n",
            "Epoch [   84/  100] | d_loss: 1.2563 | g_loss: 0.8857\n",
            "Epoch [   84/  100] | d_loss: 1.1090 | g_loss: 0.8881\n",
            "Epoch [   85/  100] | d_loss: 1.3659 | g_loss: 0.9989\n",
            "Epoch [   85/  100] | d_loss: 1.2874 | g_loss: 0.9742\n",
            "Epoch [   85/  100] | d_loss: 1.4521 | g_loss: 0.8949\n",
            "Epoch [   86/  100] | d_loss: 1.1855 | g_loss: 1.0192\n",
            "Epoch [   86/  100] | d_loss: 1.2457 | g_loss: 0.9266\n",
            "Epoch [   86/  100] | d_loss: 1.1704 | g_loss: 0.9487\n",
            "Epoch [   87/  100] | d_loss: 1.1161 | g_loss: 1.1377\n",
            "Epoch [   87/  100] | d_loss: 1.2910 | g_loss: 1.1906\n",
            "Epoch [   87/  100] | d_loss: 1.3950 | g_loss: 0.8873\n",
            "Epoch [   88/  100] | d_loss: 1.1774 | g_loss: 1.0723\n",
            "Epoch [   88/  100] | d_loss: 1.1909 | g_loss: 0.9411\n",
            "Epoch [   88/  100] | d_loss: 1.3902 | g_loss: 0.9699\n",
            "Epoch [   89/  100] | d_loss: 1.1268 | g_loss: 1.1876\n",
            "Epoch [   89/  100] | d_loss: 1.2629 | g_loss: 0.9135\n",
            "Epoch [   89/  100] | d_loss: 1.2315 | g_loss: 0.9992\n",
            "Epoch [   90/  100] | d_loss: 1.3036 | g_loss: 0.9182\n",
            "Epoch [   90/  100] | d_loss: 1.2167 | g_loss: 0.8039\n",
            "Epoch [   90/  100] | d_loss: 1.3618 | g_loss: 0.8188\n",
            "Epoch [   91/  100] | d_loss: 1.2470 | g_loss: 0.9892\n",
            "Epoch [   91/  100] | d_loss: 1.2205 | g_loss: 1.1580\n",
            "Epoch [   91/  100] | d_loss: 1.3977 | g_loss: 1.1098\n",
            "Epoch [   92/  100] | d_loss: 1.2677 | g_loss: 1.4475\n",
            "Epoch [   92/  100] | d_loss: 1.3087 | g_loss: 0.7980\n",
            "Epoch [   92/  100] | d_loss: 1.4435 | g_loss: 0.9303\n",
            "Epoch [   93/  100] | d_loss: 1.2539 | g_loss: 0.9800\n",
            "Epoch [   93/  100] | d_loss: 1.2950 | g_loss: 0.9474\n",
            "Epoch [   93/  100] | d_loss: 1.3329 | g_loss: 0.9183\n",
            "Epoch [   94/  100] | d_loss: 1.2628 | g_loss: 1.4724\n",
            "Epoch [   94/  100] | d_loss: 1.2770 | g_loss: 0.7590\n",
            "Epoch [   94/  100] | d_loss: 1.2691 | g_loss: 0.8146\n",
            "Epoch [   95/  100] | d_loss: 1.4566 | g_loss: 1.0249\n",
            "Epoch [   95/  100] | d_loss: 1.2404 | g_loss: 0.8396\n",
            "Epoch [   95/  100] | d_loss: 1.2980 | g_loss: 0.8963\n",
            "Epoch [   96/  100] | d_loss: 1.3905 | g_loss: 0.8858\n",
            "Epoch [   96/  100] | d_loss: 1.2995 | g_loss: 0.8842\n",
            "Epoch [   96/  100] | d_loss: 1.3139 | g_loss: 1.0017\n",
            "Epoch [   97/  100] | d_loss: 1.2093 | g_loss: 0.9767\n",
            "Epoch [   97/  100] | d_loss: 1.2223 | g_loss: 0.9208\n",
            "Epoch [   97/  100] | d_loss: 1.3565 | g_loss: 0.9673\n",
            "Epoch [   98/  100] | d_loss: 1.2879 | g_loss: 0.9350\n",
            "Epoch [   98/  100] | d_loss: 1.3006 | g_loss: 0.9886\n",
            "Epoch [   98/  100] | d_loss: 1.4358 | g_loss: 0.9758\n",
            "Epoch [   99/  100] | d_loss: 1.2881 | g_loss: 0.9851\n",
            "Epoch [   99/  100] | d_loss: 1.2555 | g_loss: 1.1362\n",
            "Epoch [   99/  100] | d_loss: 1.3926 | g_loss: 0.9000\n",
            "Epoch [  100/  100] | d_loss: 1.2696 | g_loss: 0.9292\n",
            "Epoch [  100/  100] | d_loss: 1.4769 | g_loss: 0.8905\n",
            "Epoch [  100/  100] | d_loss: 1.2865 | g_loss: 0.9194\n"
          ],
          "name": "stdout"
        }
      ]
    },
    {
      "metadata": {
        "id": "hv5x6pnKXtnv",
        "colab_type": "text"
      },
      "cell_type": "markdown",
      "source": [
        "## Training loss\n",
        "\n",
        "Here we'll plot the training losses for the generator and discriminator, recorded after each epoch."
      ]
    },
    {
      "metadata": {
        "id": "4TK6RgkbXtnw",
        "colab_type": "code",
        "colab": {
          "base_uri": "https://localhost:8080/",
          "height": 298
        },
        "outputId": "a3009153-c7b9-412b-b1cc-dd453fc8d47c"
      },
      "cell_type": "code",
      "source": [
        "fig, ax = plt.subplots()\n",
        "losses = np.array(losses)\n",
        "plt.plot(losses.T[0], label='Discriminator')\n",
        "plt.plot(losses.T[1], label='Generator')\n",
        "plt.title(\"Training Losses\")\n",
        "plt.legend()"
      ],
      "execution_count": 40,
      "outputs": [
        {
          "output_type": "execute_result",
          "data": {
            "text/plain": [
              "<matplotlib.legend.Legend at 0x7fb9c2653e80>"
            ]
          },
          "metadata": {
            "tags": []
          },
          "execution_count": 40
        },
        {
          "output_type": "display_data",
          "data": {
            "image/png": "[encoded data removed]",
            "text/plain": [
              "<Figure size 432x288 with 1 Axes>"
            ]
          },
          "metadata": {
            "tags": []
          }
        }
      ]
    },
    {
      "metadata": {
        "id": "rUIXgDONXtny",
        "colab_type": "text"
      },
      "cell_type": "markdown",
      "source": [
        "## Generator samples from training\n",
        "\n",
        "Here we can view samples of images from the generator. First we'll look at the images we saved during training."
      ]
    },
    {
      "metadata": {
        "id": "mtLfh7pWXtnz",
        "colab_type": "code",
        "colab": {}
      },
      "cell_type": "code",
      "source": [
        "# helper function for viewing a list of passed in sample images\n",
        "def view_samples(epoch, samples):\n",
        "    fig, axes = plt.subplots(figsize=(7,7), nrows=4, ncols=4, sharey=True, sharex=True)\n",
        "    for ax, img in zip(axes.flatten(), samples[epoch]):\n",
        "        img = img.detach()\n",
        "        ax.xaxis.set_visible(False)\n",
        "        ax.yaxis.set_visible(False)\n",
        "        im = ax.imshow(img.reshape((28,28)), cmap='Greys_r')"
      ],
      "execution_count": 0,
      "outputs": []
    },
    {
      "metadata": {
        "id": "CzeKgeQpXtn1",
        "colab_type": "code",
        "colab": {}
      },
      "cell_type": "code",
      "source": [
        "# Load samples from generator, taken while training\n",
        "with open('train_samples.pkl', 'rb') as f:\n",
        "    samples = pkl.load(f)"
      ],
      "execution_count": 0,
      "outputs": []
    },
    {
      "metadata": {
        "id": "3yv-qEbtXtn3",
        "colab_type": "text"
      },
      "cell_type": "markdown",
      "source": [
        "These are samples from the final training epoch. You can see the generator is able to reproduce numbers like 1, 7, 3, 2. Since this is just a sample, it isn't representative of the full range of images this generator can make."
      ]
    },
    {
      "metadata": {
        "id": "esR632IAXtn4",
        "colab_type": "code",
        "colab": {
          "base_uri": "https://localhost:8080/",
          "height": 411
        },
        "outputId": "29da9e74-6fb0-48ba-e821-227b2c645c07"
      },
      "cell_type": "code",
      "source": [
        "# -1 indicates final epoch's samples (the last in the list)\n",
        "view_samples(-1, samples)"
      ],
      "execution_count": 43,
      "outputs": [
        {
          "output_type": "display_data",
          "data": {
            "image/png": "[encoded data removed]",
            "text/plain": [
              "<Figure size 504x504 with 16 Axes>"
            ]
          },
          "metadata": {
            "tags": []
          }
        }
      ]
    },
    {
      "metadata": {
        "id": "edpNaYo1Xtn8",
        "colab_type": "text"
      },
      "cell_type": "markdown",
      "source": [
        "Below I'm showing the generated images as the network was training, every 10 epochs."
      ]
    },
    {
      "metadata": {
        "id": "dQD4Ei8NXtn9",
        "colab_type": "code",
        "colab": {
          "base_uri": "https://localhost:8080/",
          "height": 683
        },
        "outputId": "c445464f-3d2a-4f75-9994-ab92958f81bd"
      },
      "cell_type": "code",
      "source": [
        "rows = 10 # split epochs into 10, so 100/10 = every 10 epochs\n",
        "cols = 6\n",
        "fig, axes = plt.subplots(figsize=(7,12), nrows=rows, ncols=cols, sharex=True, sharey=True)\n",
        "\n",
        "for sample, ax_row in zip(samples[::int(len(samples)/rows)], axes):\n",
        "    for img, ax in zip(sample[::int(len(sample)/cols)], ax_row):\n",
        "        img = img.detach()\n",
        "        ax.imshow(img.reshape((28,28)), cmap='Greys_r')\n",
        "        ax.xaxis.set_visible(False)\n",
        "        ax.yaxis.set_visible(False)"
      ],
      "execution_count": 44,
      "outputs": [
        {
          "output_type": "display_data",
          "data": {
            "image/png": "[encoded data removed]",
            "text/plain": [
              "<Figure size 504x864 with 60 Axes>"
            ]
          },
          "metadata": {
            "tags": []
          }
        }
      ]
    },
    {
      "metadata": {
        "id": "UJ_wjg5CXtoB",
        "colab_type": "text"
      },
      "cell_type": "markdown",
      "source": [
        "It starts out as all noise. Then it learns to make only the center white and the rest black. You can start to see some number like structures appear out of the noise like 1s and 9s."
      ]
    },
    {
      "metadata": {
        "id": "8nlRuKr0XtoB",
        "colab_type": "text"
      },
      "cell_type": "markdown",
      "source": [
        "## Sampling from the generator\n",
        "\n",
        "We can also get completely new images from the generator by using the checkpoint we saved after training. **We just need to pass in a new latent vector $z$ and we'll get new samples**!"
      ]
    },
    {
      "metadata": {
        "id": "O6Wrsze5XtoC",
        "colab_type": "code",
        "colab": {
          "base_uri": "https://localhost:8080/",
          "height": 466
        },
        "outputId": "182b6d29-1d4a-443b-e988-24ad84112b48"
      },
      "cell_type": "code",
      "source": [
        "# randomly generated, new latent vectors\n",
        "sample_size=16\n",
        "rand_z = np.random.uniform(-1, 1, size=(sample_size, z_size))\n",
        "rand_z = torch.from_numpy(rand_z).float()\n",
        "\n",
        "G.eval() # eval mode\n",
        "# generated samples\n",
        "rand_images = G(rand_z)\n",
        "\n",
        "# 0 indicates the first set of samples in the passed in list\n",
        "# and we only have one batch of samples, here\n",
        "view_samples(0, [rand_images])"
      ],
      "execution_count": 45,
      "outputs": [
        {
          "output_type": "stream",
          "text": [
            "/usr/local/lib/python3.6/dist-packages/torch/nn/functional.py:1320: UserWarning: nn.functional.tanh is deprecated. Use torch.tanh instead.\n",
            "  warnings.warn(\"nn.functional.tanh is deprecated. Use torch.tanh instead.\")\n"
          ],
          "name": "stderr"
        },
        {
          "output_type": "display_data",
          "data": {
            "image/png": "[encoded data removed]",
            "text/plain": [
              "<Figure size 504x504 with 16 Axes>"
            ]
          },
          "metadata": {
            "tags": []
          }
        }
      ]
    }
  ]
}